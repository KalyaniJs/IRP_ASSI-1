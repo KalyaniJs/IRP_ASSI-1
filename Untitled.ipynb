{
 "cells": [
  {
   "cell_type": "code",
   "execution_count": 10,
   "id": "c3aca848-748e-42be-9ecf-672e9b09571e",
   "metadata": {
    "scrolled": true
   },
   "outputs": [
    {
     "name": "stdout",
     "output_type": "stream",
     "text": [
      "The White Tiger is the story of Balram Halwai’s life as a self-declared “self-made entrepreneur”: a rickshaw driver’s son who skillfully climbs India’s social ladder to become a chauffer and later a successful businessman. Balram recounts his life story in a letter to visiting Chinese official Premier Wen Jiabao, with the goal of educating the premier about entrepreneurship in India.Balram writes from his luxurious office in the city of Bangalore, but the story begins in his rural ancestral village of Laxmangahr. \n"
     ]
    }
   ],
   "source": [
    "text_file = open(\"note.txt\")\n",
    "text = text_file.read()\n",
    "print(text)"
   ]
  },
  {
   "cell_type": "code",
   "execution_count": 12,
   "id": "484c7894-dfd3-4dab-afb2-f12db1268d9c",
   "metadata": {
    "scrolled": true
   },
   "outputs": [
    {
     "name": "stderr",
     "output_type": "stream",
     "text": [
      "[nltk_data] Downloading package punkt to /home/dell/nltk_data...\n",
      "[nltk_data]   Package punkt is already up-to-date!\n"
     ]
    },
    {
     "name": "stdout",
     "output_type": "stream",
     "text": [
      "Requirement already satisfied: nltk in /home/dell/Downloads/Enter/lib/python3.12/site-packages (3.8.1)\n",
      "Requirement already satisfied: click in /home/dell/Downloads/Enter/lib/python3.12/site-packages (from nltk) (8.1.7)\n",
      "Requirement already satisfied: joblib in /home/dell/Downloads/Enter/lib/python3.12/site-packages (from nltk) (1.4.2)\n",
      "Requirement already satisfied: regex>=2021.8.3 in /home/dell/Downloads/Enter/lib/python3.12/site-packages (from nltk) (2023.10.3)\n",
      "Requirement already satisfied: tqdm in /home/dell/Downloads/Enter/lib/python3.12/site-packages (from nltk) (4.66.4)\n",
      "['The White Tiger is the story of Balram Halwai’s life as a self-declared “self-made entrepreneur”: a rickshaw driver’s son who skillfully climbs India’s social ladder to become a chauffer and later a successful businessman.', 'Balram recounts his life story in a letter to visiting Chinese official Premier Wen Jiabao, with the goal of educating the premier about entrepreneurship in India.Balram writes from his luxurious office in the city of Bangalore, but the story begins in his rural ancestral village of Laxmangahr.']\n"
     ]
    }
   ],
   "source": [
    "#sentence Tokenization\n",
    "import nltk\n",
    "nltk.download('punkt')\n",
    "!pip install nltk\n",
    "from nltk import sent_tokenize\n",
    "sentence_tokenized = sent_tokenize(text)\n",
    "print(sentence_tokenized)"
   ]
  },
  {
   "cell_type": "code",
   "execution_count": 13,
   "id": "ca9914cc-e651-4853-beed-5ea9e63764ed",
   "metadata": {},
   "outputs": [
    {
     "name": "stdout",
     "output_type": "stream",
     "text": [
      "['The', 'White', 'Tiger', 'is', 'the', 'story', 'of', 'Balram', 'Halwai', '’', 's', 'life', 'as', 'a', 'self-declared', '“', 'self-made', 'entrepreneur', '”', ':', 'a', 'rickshaw', 'driver', '’', 's', 'son', 'who', 'skillfully', 'climbs', 'India', '’', 's', 'social', 'ladder', 'to', 'become', 'a', 'chauffer', 'and', 'later', 'a', 'successful', 'businessman', '.', 'Balram', 'recounts', 'his', 'life', 'story', 'in', 'a', 'letter', 'to', 'visiting', 'Chinese', 'official', 'Premier', 'Wen', 'Jiabao', ',', 'with', 'the', 'goal', 'of', 'educating', 'the', 'premier', 'about', 'entrepreneurship', 'in', 'India.Balram', 'writes', 'from', 'his', 'luxurious', 'office', 'in', 'the', 'city', 'of', 'Bangalore', ',', 'but', 'the', 'story', 'begins', 'in', 'his', 'rural', 'ancestral', 'village', 'of', 'Laxmangahr', '.']\n"
     ]
    },
    {
     "name": "stderr",
     "output_type": "stream",
     "text": [
      "[nltk_data] Downloading package stopwords to /home/dell/nltk_data...\n",
      "[nltk_data]   Package stopwords is already up-to-date!\n"
     ]
    }
   ],
   "source": [
    "#word tokenized\n",
    "import nltk\n",
    "nltk.download('stopwords')\n",
    "from nltk import word_tokenize\n",
    "text_tokenized = word_tokenize(text)\n",
    "print(text_tokenized)"
   ]
  },
  {
   "cell_type": "code",
   "execution_count": 16,
   "id": "15aaff67-774f-4089-9229-88fa6a30d4d3",
   "metadata": {
    "scrolled": true
   },
   "outputs": [
    {
     "name": "stdout",
     "output_type": "stream",
     "text": [
      "the white tiger is the story of balram halwai’s life as a self-declared “self-made entrepreneur”: a rickshaw driver’s son who skillfully climbs india’s social ladder to become a chauffer and later a successful businessman. balram recounts his life story in a letter to visiting chinese official premier wen jiabao, with the goal of educating the premier about entrepreneurship in india.balram writes from his luxurious office in the city of bangalore, but the story begins in his rural ancestral village of laxmangahr. \n"
     ]
    }
   ],
   "source": [
    "#normalization\n",
    "lower_text = text.lower()\n",
    "print(lower_text)"
   ]
  },
  {
   "cell_type": "code",
   "execution_count": 22,
   "id": "2c338000-cdd0-44e2-a6a2-8cefb2dfe9ad",
   "metadata": {},
   "outputs": [
    {
     "name": "stdout",
     "output_type": "stream",
     "text": [
      "self-declared  :  self-declar\n",
      "skillfully  :  skill\n",
      "visiting  :  visit\n",
      "educating  :  educ\n"
     ]
    }
   ],
   "source": [
    "\n",
    "# import these modules\n",
    "from nltk.stem import PorterStemmer\n",
    "from nltk.tokenize import word_tokenize\n",
    " \n",
    "ps = PorterStemmer()\n",
    " \n",
    "# choose some words to be stemmed\n",
    "words = [\"self-declared\", \"skillfully\", \"visiting\", \"educating\"]\n",
    " \n",
    "for w in words:\n",
    "    print(w, \" : \", ps.stem(w))"
   ]
  },
  {
   "cell_type": "code",
   "execution_count": 20,
   "id": "4a8d7bdc-f882-49c2-85c2-061f11c369dd",
   "metadata": {
    "scrolled": true
   },
   "outputs": [
    {
     "name": "stdout",
     "output_type": "stream",
     "text": [
      "['i', 'me', 'my', 'myself', 'we', 'our', 'ours', 'ourselves', 'you', \"you're\", \"you've\", \"you'll\", \"you'd\", 'your', 'yours', 'yourself', 'yourselves', 'he', 'him', 'his', 'himself', 'she', \"she's\", 'her', 'hers', 'herself', 'it', \"it's\", 'its', 'itself', 'they', 'them', 'their', 'theirs', 'themselves', 'what', 'which', 'who', 'whom', 'this', 'that', \"that'll\", 'these', 'those', 'am', 'is', 'are', 'was', 'were', 'be', 'been', 'being', 'have', 'has', 'had', 'having', 'do', 'does', 'did', 'doing', 'a', 'an', 'the', 'and', 'but', 'if', 'or', 'because', 'as', 'until', 'while', 'of', 'at', 'by', 'for', 'with', 'about', 'against', 'between', 'into', 'through', 'during', 'before', 'after', 'above', 'below', 'to', 'from', 'up', 'down', 'in', 'out', 'on', 'off', 'over', 'under', 'again', 'further', 'then', 'once', 'here', 'there', 'when', 'where', 'why', 'how', 'all', 'any', 'both', 'each', 'few', 'more', 'most', 'other', 'some', 'such', 'no', 'nor', 'not', 'only', 'own', 'same', 'so', 'than', 'too', 'very', 's', 't', 'can', 'will', 'just', 'don', \"don't\", 'should', \"should've\", 'now', 'd', 'll', 'm', 'o', 're', 've', 'y', 'ain', 'aren', \"aren't\", 'couldn', \"couldn't\", 'didn', \"didn't\", 'doesn', \"doesn't\", 'hadn', \"hadn't\", 'hasn', \"hasn't\", 'haven', \"haven't\", 'isn', \"isn't\", 'ma', 'mightn', \"mightn't\", 'mustn', \"mustn't\", 'needn', \"needn't\", 'shan', \"shan't\", 'shouldn', \"shouldn't\", 'wasn', \"wasn't\", 'weren', \"weren't\", 'won', \"won't\", 'wouldn', \"wouldn't\"]\n",
      "TheWhiteTigerstoryBalramHalwai’lifeself-declared“self-madeentrepreneur”:rickshawdriver’sonskillfullyclimbsIndia’socialladderbecomechaufferlatersuccessfulbusinessman.BalramrecountslifestorylettervisitingChineseofficialPremierWenJiabao,goaleducatingpremierentrepreneurshipIndia.BalramwritesluxuriousofficecityBangalore,storybeginsruralancestralvillageLaxmangahr.\n"
     ]
    },
    {
     "name": "stderr",
     "output_type": "stream",
     "text": [
      "[nltk_data] Downloading package stopwords to /home/dell/nltk_data...\n",
      "[nltk_data]   Package stopwords is already up-to-date!\n"
     ]
    }
   ],
   "source": [
    "#remove stopwords\n",
    "import nltk\n",
    "nltk.download('stopwords')\n",
    "from nltk.corpus import stopwords\n",
    "stopwords = stopwords.words('english')\n",
    "print(stopwords)\n",
    "\n",
    "text_nostop = \"\".join([char for char in text_tokenized if char not in stopwords])\n",
    "print(text_nostop)\n",
    " "
   ]
  },
  {
   "cell_type": "code",
   "execution_count": null,
   "id": "3e6e1d16-2a91-411c-b70d-209e57493adc",
   "metadata": {},
   "outputs": [],
   "source": []
  },
  {
   "cell_type": "code",
   "execution_count": null,
   "id": "1d9f35a6-0cdd-4ce8-a789-32c502db9aef",
   "metadata": {},
   "outputs": [],
   "source": []
  }
 ],
 "metadata": {
  "kernelspec": {
   "display_name": "Python 3 (ipykernel)",
   "language": "python",
   "name": "python3"
  },
  "language_info": {
   "codemirror_mode": {
    "name": "ipython",
    "version": 3
   },
   "file_extension": ".py",
   "mimetype": "text/x-python",
   "name": "python",
   "nbconvert_exporter": "python",
   "pygments_lexer": "ipython3",
   "version": "3.12.4"
  }
 },
 "nbformat": 4,
 "nbformat_minor": 5
}
