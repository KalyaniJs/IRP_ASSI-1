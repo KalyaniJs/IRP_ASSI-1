{
  "nbformat": 4,
  "nbformat_minor": 0,
  "metadata": {
    "colab": {
      "provenance": []
    },
    "kernelspec": {
      "name": "python3",
      "display_name": "Python 3"
    },
    "language_info": {
      "name": "python"
    }
  },
  "cells": [
    {
      "cell_type": "code",
      "source": [
        "import re\n",
        "\n",
        "text = \"The quick brown fox jumps over the lazy dog. The dog is very happy and fulfillment is its ultimate goal. The fox is running and jumping with great enthusiasm.\"\n",
        "words = re.sub(r'[^\\w\\s]', '', text).lower().split()"
      ],
      "metadata": {
        "id": "kEyj9c5Kw_W4"
      },
      "execution_count": 15,
      "outputs": []
    },
    {
      "cell_type": "code",
      "source": [
        "def lovin_stemmer(word):\n",
        "    suffixes = ['ed', 'ing', 's', 'ly', 'er', 'al', 'ful', 'ness', 'ment', 'less', 'ous']\n",
        "    for suffix in suffixes:\n",
        "        if word.endswith(suffix):\n",
        "            word = word[:-len(suffix)]\n",
        "            break\n",
        "    return word\n",
        "\n",
        "lovin_stemmed_words = [lovin_stemmer(word) for word in words]\n",
        "print(lovin_stemmed_words)\n"
      ],
      "metadata": {
        "colab": {
          "base_uri": "https://localhost:8080/"
        },
        "id": "dCZP4-35xHIz",
        "outputId": "3847a9ed-db75-44b4-e037-1bc6e5c6cbbb"
      },
      "execution_count": 13,
      "outputs": [
        {
          "output_type": "stream",
          "name": "stdout",
          "text": [
            "['the', 'quick', 'brown', 'fox', 'jump', 'ov', 'the', 'lazy', 'dog', 'the', 'dog', 'i', 'very', 'happy', 'and', 'fulfill', 'i', 'it', 'ultimate', 'go', 'the', 'fox', 'i', 'runn', 'and', 'jump', 'with', 'great', 'enthusiasm']\n"
          ]
        }
      ]
    },
    {
      "cell_type": "code",
      "source": [
        "def porter_stemmer(word):\n",
        "    rules = [\n",
        "        (\"sses\", \"ss\"),\n",
        "        (\"ies\", \"i\"),\n",
        "        (\"ss\", \"ss\"),\n",
        "        (\"s\", \"\"),\n",
        "        (\"eed\", \"ee\"),\n",
        "    ]\n",
        "    for rule in rules:\n",
        "        if word.endswith(rule[0]):\n",
        "            word = word[:-len(rule[0])] + rule[1]\n",
        "    return word\n",
        "\n",
        "porter_stemmed_words = [porter_stemmer(word) for word in words]\n",
        "print(porter_stemmed_words)\n"
      ],
      "metadata": {
        "colab": {
          "base_uri": "https://localhost:8080/"
        },
        "id": "-56mmhEaxPGa",
        "outputId": "e2dc5372-9359-4ac6-80e0-f73659fadef6"
      },
      "execution_count": 14,
      "outputs": [
        {
          "output_type": "stream",
          "name": "stdout",
          "text": [
            "['the', 'quick', 'brown', 'fox', 'jump', 'over', 'the', 'lazy', 'dog', 'the', 'dog', 'i', 'very', 'happy', 'and', 'fulfillment', 'i', 'it', 'ultimate', 'goal', 'the', 'fox', 'i', 'running', 'and', 'jumping', 'with', 'great', 'enthusiasm']\n"
          ]
        }
      ]
    }
  ]
}